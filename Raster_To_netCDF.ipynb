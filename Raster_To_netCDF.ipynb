{
 "cells": [
  {
   "cell_type": "code",
   "execution_count": 1,
   "metadata": {},
   "outputs": [],
   "source": [
    "import numpy as np\n",
    "import datetime as dt\n",
    "import os\n",
    "import gdal\n",
    "import netCDF4 as nc\n",
    "import re"
   ]
  },
  {
   "cell_type": "code",
   "execution_count": 2,
   "metadata": {},
   "outputs": [],
   "source": [
    "def ras_netcdf(ras,ncf,varname):\n",
    "    ds = gdal.Open(ras)\n",
    "    a = ds.ReadAsArray()\n",
    "#   a = a.astype('float64') \n",
    "#   x=a.tolist()\n",
    "    nlat,nlon = np.shape(a)\n",
    "\n",
    "    b = ds.GetGeoTransform() #bbox, interval\n",
    "    lonr = np.arange(nlon)*b[1]+b[0]\n",
    "    latr = np.arange(nlat)*b[5]+b[3]\n",
    "    write=nc.Dataset(ncf,'w')\n",
    "    lat = write.createDimension('lat')\n",
    "    lon = write.createDimension('lon')\n",
    "    lats = write.createVariable('lat', 'f4', ('lat',))\n",
    "    lons = write.createVariable('lon', 'f4', ('lon',))\n",
    "    var = write.createVariable(varname, 'f4', ('lat', 'lon',))\n",
    "    lats[:]=latr[:]\n",
    "    lons[:]=lonr[:]\n",
    "    var[:]=a[:]\n",
    "    write.close()"
   ]
  },
  {
   "cell_type": "code",
   "execution_count": null,
   "metadata": {},
   "outputs": [],
   "source": []
  }
 ],
 "metadata": {
  "kernelspec": {
   "display_name": "Python 3",
   "language": "python",
   "name": "python3"
  },
  "language_info": {
   "codemirror_mode": {
    "name": "ipython",
    "version": 3
   },
   "file_extension": ".py",
   "mimetype": "text/x-python",
   "name": "python",
   "nbconvert_exporter": "python",
   "pygments_lexer": "ipython3",
   "version": "3.7.0"
  }
 },
 "nbformat": 4,
 "nbformat_minor": 4
}
